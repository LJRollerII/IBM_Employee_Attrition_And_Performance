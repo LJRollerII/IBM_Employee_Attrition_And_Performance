{
 "cells": [
  {
   "cell_type": "code",
   "execution_count": null,
   "id": "17886a29",
   "metadata": {},
   "outputs": [],
   "source": [
    "import pandas as pd\n",
    "dataset = pd.read_csv(\"../data/IBM_HR_Employee_Attrition.csv\") "
   ]
  },
  {
   "cell_type": "markdown",
   "id": "787a5472",
   "metadata": {},
   "source": [
    "Split Into Test & Train Data"
   ]
  },
  {
   "cell_type": "code",
   "execution_count": null,
   "id": "20b43889",
   "metadata": {},
   "outputs": [],
   "source": [
    "data = dataset.sample(frac=0.95, random_state=786)\n",
    "data_unseen = dataset.drop(data.index)\n",
    "data.reset_index(inplace=True, drop=True)\n",
    "data_unseen.reset_index(inplace=True, drop=True)\n",
    "print('Data for Modeling: ' + str(data.shape))\n",
    "print('Unseen Data For Predictions: ' + str(data_unseen.shape))\n",
    "#data represents training\n",
    "#unseen represents testing"
   ]
  },
  {
   "cell_type": "markdown",
   "id": "98a1e770",
   "metadata": {},
   "source": [
    "How many people stay with the company?"
   ]
  },
  {
   "cell_type": "code",
   "execution_count": null,
   "id": "c74d8c43",
   "metadata": {},
   "outputs": [],
   "source": [
    "data.Attrition.value_counts() / len(data)"
   ]
  },
  {
   "cell_type": "code",
   "execution_count": null,
   "id": "4cf7aa66",
   "metadata": {},
   "outputs": [],
   "source": [
    "from pycaret.classification import *\n",
    "exp_clf101 = setup(data = data, target = 'Attrition', session_id=123) "
   ]
  },
  {
   "cell_type": "markdown",
   "id": "836346a4",
   "metadata": {},
   "source": [
    "Let's find out what's the best model for us to use for this prediction."
   ]
  },
  {
   "cell_type": "code",
   "execution_count": null,
   "id": "e3ab44fa",
   "metadata": {},
   "outputs": [],
   "source": [
    "best_model = compare_models()"
   ]
  },
  {
   "cell_type": "markdown",
   "id": "1eb1c8d3",
   "metadata": {},
   "source": [
    "What are the most features (cloumns) in our prediction?"
   ]
  },
  {
   "cell_type": "code",
   "execution_count": null,
   "id": "cb1de187",
   "metadata": {},
   "outputs": [],
   "source": [
    "model = create_model('lda')\n",
    "plot_model(dt, plot = 'feature')"
   ]
  },
  {
   "cell_type": "markdown",
   "id": "c9095875",
   "metadata": {},
   "source": [
    "What did we correctly and incorrectly predict?"
   ]
  },
  {
   "cell_type": "code",
   "execution_count": null,
   "id": "b20416af",
   "metadata": {},
   "outputs": [],
   "source": [
    "plot_model(model, plot = 'confusion_matrix')"
   ]
  },
  {
   "cell_type": "markdown",
   "id": "7ad4cfdd",
   "metadata": {},
   "source": [
    "How accurate are we in predicting the unseen data?"
   ]
  },
  {
   "cell_type": "code",
   "execution_count": null,
   "id": "29300f5e",
   "metadata": {},
   "outputs": [],
   "source": [
    "unseen_predictions = predict_model(model, data=data_unseen)\n",
    "from pycaret.utils import check_metric\n",
    "check_metric(unseen_predictions['Attrition'], unseen_predictions['Label'], metric = 'Accuracy')"
   ]
  }
 ],
 "metadata": {
  "kernelspec": {
   "display_name": "Python 3 (ipykernel)",
   "language": "python",
   "name": "python3"
  },
  "language_info": {
   "codemirror_mode": {
    "name": "ipython",
    "version": 3
   },
   "file_extension": ".py",
   "mimetype": "text/x-python",
   "name": "python",
   "nbconvert_exporter": "python",
   "pygments_lexer": "ipython3",
   "version": "3.9.7"
  }
 },
 "nbformat": 4,
 "nbformat_minor": 5
}
